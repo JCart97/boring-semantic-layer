{
 "cells": [
  {
   "cell_type": "code",
   "execution_count": 3,
   "id": "125abc5f",
   "metadata": {},
   "outputs": [],
   "source": [
    "# Get semantic model from example_basic.py\n",
    "from example_basic import flights_sm\n",
    "from IPython.display import Image"
   ]
  },
  {
   "cell_type": "code",
   "id": "crtpgvdylf",
   "source": "# Configuration: Choose backend for visualization\nBACKEND = \"altair\"  # Options: \"altair\" or \"plotly\"",
   "metadata": {},
   "execution_count": null,
   "outputs": []
  },
  {
   "cell_type": "markdown",
   "id": "41aq5qmulx5",
   "metadata": {},
   "source": [
    "# Auto chart detection example: bar chart"
   ]
  },
  {
   "cell_type": "code",
   "execution_count": null,
   "id": "6732879a",
   "metadata": {},
   "outputs": [],
   "source": "# note: We use Image to display image in Github.\n# For regular usage, you can use .chart() and the result will be displayed in the notebook.\nImage(\n    flights_sm.query(\n        dimensions=[\"destination\"],\n        measures=[\"avg_distance\", \"flight_count\"],\n        order_by=[(\"avg_distance\", \"desc\")],\n        limit=10,\n    ).chart(backend=BACKEND, format=\"png\")\n)"
  },
  {
   "cell_type": "markdown",
   "id": "zp8ie62a21d",
   "metadata": {},
   "source": [
    "# Auto chart detection example: time-series"
   ]
  },
  {
   "cell_type": "code",
   "execution_count": null,
   "id": "2ab41a11",
   "metadata": {},
   "outputs": [],
   "source": "# note: We use Image to display image in Github.\n# For regular usage, you can use .chart() and the result will be displayed in the notebook.\nImage(\n    flights_sm.query(\n        dimensions=[\"arr_time\", \"origin\"],\n        measures=[\"flight_count\"],\n        time_range={\"start\": \"2003-01-01\", \"end\": \"2005-01-31\"},\n        time_grain=\"TIME_GRAIN_MONTH\",\n        filters=[lambda t: t.origin.isin([\"ATL\", \"LAX\"])],\n    ).chart(backend=BACKEND, format=\"png\")\n)"
  },
  {
   "cell_type": "markdown",
   "id": "vi9h30iwx78",
   "metadata": {},
   "source": [
    "# Auto chart detection example: heatmap"
   ]
  },
  {
   "cell_type": "code",
   "execution_count": null,
   "id": "88f2d271",
   "metadata": {},
   "outputs": [],
   "source": "# note: We use Image to display image in Github.\n# For regular usage, you can use .chart() and the result will be displayed in the notebook.\nImage(\n    flights_sm.query(\n        dimensions=[\"destination\", \"origin\"], measures=[\"flight_count\"], limit=25\n    ).chart(spec={\"height\": 300, \"width\": 300}, backend=BACKEND, format=\"png\")\n)"
  },
  {
   "cell_type": "markdown",
   "id": "ppzhxc5yo5t",
   "metadata": {},
   "source": [
    "# Only change the mark, keep auto-detection for the rest"
   ]
  },
  {
   "cell_type": "code",
   "execution_count": null,
   "id": "3f2cc9da",
   "metadata": {},
   "outputs": [],
   "source": "# note: We use Image to display image in Github.\n# For regular usage, you can use .chart() and the result will be displayed in the notebook.\n\n# Conditional logic for different backends\nif BACKEND == \"altair\":\n    spec = {\"mark\": \"line\"}\nelse:  # plotly\n    spec = {\"chart_type\": \"line\"}\n\nImage(\n    flights_sm.query(\n        dimensions=[\"destination\"],\n        measures=[\"avg_distance\", \"flight_count\"],\n        order_by=[(\"avg_distance\", \"desc\")],\n        limit=20,\n    ).chart(spec=spec, backend=BACKEND, format=\"png\")\n)"
  },
  {
   "cell_type": "markdown",
   "id": "iluz01qe9sg",
   "metadata": {},
   "source": [
    "# Query with chart customization"
   ]
  },
  {
   "cell_type": "code",
   "execution_count": null,
   "id": "834930e5",
   "metadata": {},
   "outputs": [],
   "source": "# note: We use Image to display image in Github.\n# For regular usage, you can use .chart() and the result will be displayed in the notebook.\n\n# Backend-specific chart customization\nif BACKEND == \"altair\":\n    spec = {\n        \"mark\": \"line\",\n        \"encoding\": {\n            \"x\": {\n                \"field\": \"arr_time\",\n                \"type\": \"ordinal\",\n                \"axis\": {\n                    \"labelExpr\": \"datum.label\",\n                    \"labelOverlap\": True,\n                    \"tickCount\": 20,\n                    \"labelAngle\": -45,\n                },\n            },\n            \"y\": {\"field\": \"flight_count\", \"type\": \"quantitative\"},\n            \"color\": {\"field\": \"origin\", \"type\": \"nominal\"},\n        },\n        \"width\": 500,\n        \"height\": 300,\n    }\nelse:  # plotly\n    spec = {\"layout\": {\"height\": 600, \"width\": 600, \"title\": \"Custom Chart Title\"}}\n\nImage(\n    flights_sm.query(\n        dimensions=[\"arr_time\", \"origin\"],\n        measures=[\"flight_count\"],\n        time_range={\"start\": \"2003-01-01\", \"end\": \"2005-01-31\"},\n        time_grain=\"TIME_GRAIN_WEEK\",\n        filters=[lambda t: t.origin.isin([\"ATL\", \"LAX\"])],\n    ).chart(spec=spec, backend=BACKEND, format=\"png\")\n)"
  },
  {
   "cell_type": "markdown",
   "id": "hlgzjyfx63",
   "metadata": {},
   "source": "# Output format in JSON - works with both backends"
  },
  {
   "cell_type": "code",
   "execution_count": null,
   "id": "83ac12eb",
   "metadata": {},
   "outputs": [],
   "source": "# This option is great for passing the chart spec to a frontend (e.g. in an MCP server context).\n\nflights_sm.query(\n    dimensions=[\"destination\"],\n    measures=[\"avg_distance\"],\n    order_by=[(\"avg_distance\", \"desc\")],\n    limit=20,\n).chart(backend=BACKEND, format=\"json\")"
  }
 ],
 "metadata": {
  "kernelspec": {
   "display_name": "boring-semantic-layer",
   "language": "python",
   "name": "python3"
  },
  "language_info": {
   "codemirror_mode": {
    "name": "ipython",
    "version": 3
   },
   "file_extension": ".py",
   "mimetype": "text/x-python",
   "name": "python",
   "nbconvert_exporter": "python",
   "pygments_lexer": "ipython3",
   "version": "3.11.10"
  }
 },
 "nbformat": 4,
 "nbformat_minor": 5
}